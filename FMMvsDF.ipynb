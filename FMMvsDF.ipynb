{
 "cells": [
  {
   "cell_type": "code",
   "execution_count": 1,
   "metadata": {},
   "outputs": [],
   "source": [
    "import numpy as np\n",
    "from numba import njit, prange, float64\n",
    "import exafmm.laplace as laplace\n",
    "import time"
   ]
  },
  {
   "cell_type": "code",
   "execution_count": 5,
   "metadata": {},
   "outputs": [],
   "source": [
    "@njit('(float64[:,:], float64[:,:], float64[:,:],float64, float64)', cache=True, fastmath=True, parallel=True)\n",
    "def compute_acc_poisson(pos,mass,charge, k, softening):\n",
    "    \"\"\" Computes the Acceleration of N bodies\n",
    "\tArgs:\n",
    "\t\tpos (type=np.array, size= Nx3): x, y, z positions of the N particles\n",
    "\t\tmass (type=np.array, size= Nx1): mass of the particles\n",
    "        k (float): Coulomb constant\n",
    "\t\tsoftening (float): softening parameter\n",
    "\n",
    "\tReturns:\n",
    "\t\tacc (type=np.array, size= Nx3): ax, ay, az accelerations of the N particles\n",
    "\t\"\"\"\n",
    "    n = pos.shape[0]\n",
    "\n",
    "    # Copy the array view so for the next loop to be faster\n",
    "    x = pos[:,0].copy()\n",
    "    y = pos[:,1].copy()\n",
    "    z = pos[:,2].copy()\n",
    "\n",
    "    # Ensure mass is a contiguous 1D array (cheap operation)\n",
    "    assert mass.shape[1] == 1\n",
    "    contig_mass = mass[:,0].copy()\n",
    "    \n",
    "    # Ensure charge is a contiguous 1D array (cheap operation)\n",
    "    assert charge.shape[1] == 1\n",
    "    contig_charge = charge[:,0].copy()\n",
    "\n",
    "    acc = np.empty((n, 3), pos.dtype)\n",
    "\n",
    "    for i in prange(n):\n",
    "        ax, ay, az = 0.0, 0.0, 0.0\n",
    "\n",
    "        for j in range(n):\n",
    "            dx = x[i] - x[j]  \n",
    "            dy = y[i] - y[j]\n",
    "            dz = z[i] - z[j]\n",
    "            tmp = (dx**2 + dy**2 + dz**2 + softening**2)\n",
    "            factor = contig_charge[j] / (tmp * np.sqrt(tmp))\n",
    "            ax += dx * factor\n",
    "            ay += dy * factor\n",
    "            az += dz * factor\n",
    "\n",
    "        acc[i, 0] = k * contig_charge[i]/contig_mass[i] * ax\n",
    "        acc[i, 1] = k * contig_charge[i]/contig_mass[i] * ay\n",
    "        acc[i, 2] = k * contig_charge[i]/contig_mass[i] * az\n",
    "\n",
    "    return acc\n",
    "\n",
    "def FMM_acc_poisson(positions, masses, charges,P,nbpl):\n",
    "    \"\"\"\n",
    "    Compute the accelerations of a collection of particles interacting electrostatically.\n",
    "\n",
    "    Parameters:\n",
    "    - positions (List[Tuple[float, float, float]]): A list of tuples, where each tuple represents the x, y, z coordinates of a particle's position.  \n",
    "    - masses (List[float]): A list of mass values for each particle. \n",
    "    - charges (List[float]): A list of charge values for each particle.\n",
    "    - P: order of expansion of the FMM\n",
    "    - nbpl: max number of bodies per leaf\n",
    "    Returns:\n",
    "    - accelerations: A numpy array of shape (n, 3) representing the acceleration of each particle in the x, y, z directions.\n",
    "    \"\"\"\n",
    "    \n",
    "    # Ensure that the inputs are numpy arrays\n",
    "    #positions = np.array(positions)\n",
    "    #masses = np.array(masses)\n",
    "    #charges = np.array(charges)\n",
    "    \n",
    "\n",
    "    # Number of particles\n",
    "    n = len(positions)\n",
    "\n",
    "    # create a list of source instances\n",
    "    sources = laplace.init_sources(positions, charges)\n",
    "    # create a list of target instances\n",
    "    targets = laplace.init_targets(positions)\n",
    "\n",
    "    # create a LaplaceFmm instance\n",
    "    fmm = laplace.LaplaceFmm(p=P, ncrit=nbpl, filename=\"test_file.dat\")\n",
    "\n",
    "    # setup the tree\n",
    "    tree = laplace.setup(sources, targets, fmm)\n",
    "\n",
    "    # evaluate potential and its gradient\n",
    "    trg_values = laplace.evaluate(tree, fmm)\n",
    "\n",
    "    # compute forces on each particle\n",
    "    k=8.9875517923*1e9 # Coulomb constant\n",
    "    forces = -k*charges[:, np.newaxis] * trg_values[:, 1:]  # Multiply charges by electric field\n",
    "\n",
    "    # compute accelerations of each particle\n",
    "    accelerations = forces / masses[:, np.newaxis]\n",
    "     \n",
    "    return accelerations"
   ]
  },
  {
   "cell_type": "code",
   "execution_count": 6,
   "metadata": {},
   "outputs": [],
   "source": [
    "softening=1e-6\n",
    "k=8.9875517923*1e9\n",
    "\n",
    "P=2\n",
    "nbpl=100"
   ]
  },
  {
   "cell_type": "code",
   "execution_count": 7,
   "metadata": {},
   "outputs": [],
   "source": [
    "N = 1000000\n",
    "pos = np.random.uniform(-100, 100, size=(N, 3))\n",
    "mass = np.random.uniform(0, 10, size=(N, 1))\n",
    "charge = np.random.uniform(-1, 1, size=(N, 1))"
   ]
  },
  {
   "cell_type": "code",
   "execution_count": 42,
   "metadata": {},
   "outputs": [
    {
     "name": "stdout",
     "output_type": "stream",
     "text": [
      "28.3 ms ± 78.3 µs per loop (mean ± std. dev. of 10 runs, 1,000 loops each)\n"
     ]
    }
   ],
   "source": [
    "%%timeit -r 3 -n 1\n",
    "compute_acc_poisson(pos,mass,charge, k, softening)"
   ]
  },
  {
   "cell_type": "code",
   "execution_count": 8,
   "metadata": {},
   "outputs": [
    {
     "name": "stdout",
     "output_type": "stream",
     "text": [
      "1.15 s ± 281 ms per loop (mean ± std. dev. of 3 runs, 1 loop each)\n"
     ]
    }
   ],
   "source": [
    "%%timeit -r 3 -n 1\n",
    "FMM_acc_poisson(pos, mass.ravel(), charge.ravel(),P,nbpl)"
   ]
  },
  {
   "cell_type": "code",
   "execution_count": null,
   "metadata": {},
   "outputs": [],
   "source": []
  }
 ],
 "metadata": {
  "kernelspec": {
   "display_name": "Python 3",
   "language": "python",
   "name": "python3"
  },
  "language_info": {
   "codemirror_mode": {
    "name": "ipython",
    "version": 3
   },
   "file_extension": ".py",
   "mimetype": "text/x-python",
   "name": "python",
   "nbconvert_exporter": "python",
   "pygments_lexer": "ipython3",
   "version": "3.10.12"
  },
  "orig_nbformat": 4
 },
 "nbformat": 4,
 "nbformat_minor": 2
}
